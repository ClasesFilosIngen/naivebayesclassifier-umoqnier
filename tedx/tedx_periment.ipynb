{
 "cells": [
  {
   "cell_type": "code",
   "execution_count": 12,
   "metadata": {},
   "outputs": [],
   "source": [
    "# Render our plots inline\n",
    "%matplotlib inline\n",
    "\n",
    "import pandas as pd\n",
    "import matplotlib\n",
    "import matplotlib.pyplot as plt\n",
    "from collections import Counter\n",
    "matplotlib.rcParams['figure.figsize'] = (20.0, 10.0)\n",
    "\n",
    "data = pd.read_csv(\"./ted-talks/ted_main.csv\", error_bad_lines=False)  # Getting the data"
   ]
  },
  {
   "cell_type": "code",
   "execution_count": 13,
   "metadata": {},
   "outputs": [
    {
     "data": {
      "text/plain": [
       "<BarContainer object of 10 artists>"
      ]
     },
     "execution_count": 13,
     "metadata": {},
     "output_type": "execute_result"
    },
    {
     "data": {
      "image/png": "[encoded data removed]",
      "text/plain": [
       "<Figure size 1440x720 with 1 Axes>"
      ]
     },
     "metadata": {
      "needs_background": "light"
     },
     "output_type": "display_data"
    }
   ],
   "source": [
    "words = {}\n",
    "tags_set = [eval(_) for _ in data['tags']]\n",
    "for tags in tags_set:\n",
    "    for tag in tags:\n",
    "        tag = tag.lower()\n",
    "        if tag in words.keys() and tag != \"tedx\":\n",
    "            words[tag] += 1\n",
    "        else:\n",
    "            words[tag] = 1\n",
    "\n",
    "tags, freq = zip(*Counter(words).most_common(10))\n",
    "plt.bar(tags, freq)"
   ]
  },
  {
   "cell_type": "code",
   "execution_count": 3,
   "metadata": {},
   "outputs": [],
   "source": [
    "data_desc = data['description']\n",
    "\n",
    "documentos = data_desc"
   ]
  },
  {
   "cell_type": "markdown",
   "metadata": {},
   "source": [
    "## Visualizando parte de los datos"
   ]
  },
  {
   "cell_type": "code",
   "execution_count": 4,
   "metadata": {},
   "outputs": [
    {
     "name": "stdout",
     "output_type": "stream",
     "text": [
      "2550\n",
      "0    Sir Ken Robinson makes an entertaining and pro...\n",
      "1    With the same humor and humanity he exuded in ...\n",
      "2    New York Times columnist David Pogue takes aim...\n",
      "3    In an emotionally charged talk, MacArthur-winn...\n",
      "4    You've never seen data presented like this. Wi...\n",
      "Name: description, dtype: object\n"
     ]
    }
   ],
   "source": [
    "print(len(documentos))\n",
    "print(documentos[:5])"
   ]
  },
  {
   "cell_type": "code",
   "execution_count": 5,
   "metadata": {},
   "outputs": [
    {
     "name": "stderr",
     "output_type": "stream",
     "text": [
      "[nltk_data] Downloading package wordnet to /home/umoqnier/nltk_data...\n",
      "[nltk_data]   Package wordnet is already up-to-date!\n"
     ]
    },
    {
     "data": {
      "text/plain": [
       "True"
      ]
     },
     "execution_count": 5,
     "metadata": {},
     "output_type": "execute_result"
    }
   ],
   "source": [
    "import gensim\n",
    "from gensim.utils import simple_preprocess\n",
    "from gensim.parsing.preprocessing import STOPWORDS\n",
    "from nltk.stem import WordNetLemmatizer, SnowballStemmer\n",
    "from nltk.stem.porter import *\n",
    "import numpy as np\n",
    "np.random.seed(2018)\n",
    "\n",
    "import nltk\n",
    "nltk.download('wordnet')"
   ]
  },
  {
   "cell_type": "markdown",
   "metadata": {},
   "source": [
    "## Funciones para preprocesamiento, lematización y stemming"
   ]
  },
  {
   "cell_type": "code",
   "execution_count": 6,
   "metadata": {},
   "outputs": [],
   "source": [
    "\n",
    "def lematizacion_stemming(texto):\n",
    "    stemmer = SnowballStemmer('english')\n",
    "    return stemmer.stem(WordNetLemmatizer().lemmatize(texto, pos='v'))\n",
    "\n",
    "def preprocesamiento(texto):\n",
    "    return [lematizacion_stemming(token) for token in simple_preprocess(texto) \n",
    "            if token not in STOPWORDS and len(token) > 3]"
   ]
  },
  {
   "cell_type": "code",
   "execution_count": 62,
   "metadata": {},
   "outputs": [
    {
     "name": "stdout",
     "output_type": "stream",
     "text": [
      "Documento original\n",
      " Raised | listening | to | his | dad's | old | records, | Joey | Alexander | plays | a | brand | of | sharp, | modern | piano | jazz | that | you | likely | wouldn't | expect | to | hear | from | a | pre-teenager. | Listen | as | the | 11-year-old | delights | the | TED | crowd | with | his | very | special | performance | of | a | Thelonious | Monk | classic.\n",
      "\n",
      "\n",
      "Documento preprocesado\n",
      " rais | listen | record | joey | alexand | play | brand | sharp | modern | piano | jazz | like | wouldn | expect | hear | teenag | listen | year | delight | crowd | special | perform | theloni | monk | classic\n"
     ]
    }
   ],
   "source": [
    "ejemplo = documentos.iloc[2000]\n",
    "print(\"Documento original\\n\", \" | \".join(ejemplo.split(' ')))\n",
    "print(\"\\n\\nDocumento preprocesado\\n\", \" | \".join(preprocesamiento(ejemplo)))"
   ]
  },
  {
   "cell_type": "code",
   "execution_count": 8,
   "metadata": {},
   "outputs": [
    {
     "data": {
      "text/plain": [
       "0    [robinson, make, entertain, profound, move, ca...\n",
       "1    [humor, human, exud, inconveni, truth, gore, s...\n",
       "2    [york, time, columnist, david, pogu, take, tec...\n",
       "3    [emot, charg, talk, macarthur, win, activist, ...\n",
       "4    [see, data, present, like, drama, urgenc, spor...\n",
       "5    [toni, robbin, discuss, invis, forc, motiv, ac...\n",
       "6    [young, mormon, missionari, knock, julia, swee...\n",
       "7    [architect, joshua, princ, ramus, take, audien...\n",
       "8    [philosoph, dennett, call, religion, religion,...\n",
       "9    [pastor, rick, warren, author, purpos, drive, ...\n",
       "Name: description, dtype: object"
      ]
     },
     "execution_count": 8,
     "metadata": {},
     "output_type": "execute_result"
    }
   ],
   "source": [
    "documentos_preprocesados = documentos.map(preprocesamiento)\n",
    "documentos_preprocesados[:10]"
   ]
  },
  {
   "cell_type": "markdown",
   "metadata": {},
   "source": [
    "# Bolsa de palabras"
   ]
  },
  {
   "cell_type": "code",
   "execution_count": 70,
   "metadata": {
    "scrolled": true
   },
   "outputs": [
    {
     "name": "stdout",
     "output_type": "stream",
     "text": [
      "0 case\n",
      "1 creat\n",
      "2 creativ\n",
      "3 educ\n",
      "4 entertain\n",
      "5 make\n",
      "6 move\n",
      "7 nurtur\n",
      "8 profound\n",
      "9 robinson\n"
     ]
    }
   ],
   "source": [
    "diccionario = gensim.corpora.Dictionary(documentos_preprocesados)\n",
    "\n",
    "j = 0\n",
    "for key, value in diccionario.iteritems():\n",
    "    print(key, value)\n",
    "    j += 1\n",
    "    if j >= 10:\n",
    "        break\n",
    "    "
   ]
  },
  {
   "cell_type": "markdown",
   "metadata": {},
   "source": [
    "## Filtrando los tokens"
   ]
  },
  {
   "cell_type": "code",
   "execution_count": null,
   "metadata": {},
   "outputs": [],
   "source": [
    "diccionario.filter_extremes(no_below=15, no_above=0.5, keep_n=100000)"
   ]
  },
  {
   "cell_type": "markdown",
   "metadata": {},
   "source": [
    "Por cada documento se crea un diccionario las palabras del corpus y cuantas veces apararecen"
   ]
  },
  {
   "cell_type": "code",
   "execution_count": 73,
   "metadata": {},
   "outputs": [
    {
     "data": {
      "text/plain": [
       "[(12, 1),\n",
       " (79, 1),\n",
       " (185, 1),\n",
       " (220, 1),\n",
       " (592, 1),\n",
       " (726, 1),\n",
       " (920, 1),\n",
       " (989, 1),\n",
       " (1019, 2),\n",
       " (1048, 1),\n",
       " (1075, 1),\n",
       " (1079, 1),\n",
       " (1393, 1),\n",
       " (1550, 1),\n",
       " (2123, 1),\n",
       " (2653, 1),\n",
       " (2814, 1),\n",
       " (2955, 1),\n",
       " (2990, 1),\n",
       " (3373, 1),\n",
       " (5227, 1),\n",
       " (5266, 1),\n",
       " (5838, 1),\n",
       " (8688, 1)]"
      ]
     },
     "execution_count": 73,
     "metadata": {},
     "output_type": "execute_result"
    }
   ],
   "source": [
    "bow_corpus = [diccionario.doc2bow(doc) for doc in documentos_preprocesados]\n",
    "bow_corpus[2000]"
   ]
  },
  {
   "cell_type": "markdown",
   "metadata": {},
   "source": [
    "### Reporte simple"
   ]
  },
  {
   "cell_type": "code",
   "execution_count": 74,
   "metadata": {},
   "outputs": [
    {
     "name": "stdout",
     "output_type": "stream",
     "text": [
      "La palabra #12 ('brand') aparece 1 veces\n",
      "La palabra #79 ('like') aparece 1 veces\n",
      "La palabra #185 ('year') aparece 1 veces\n",
      "La palabra #220 ('perform') aparece 1 veces\n",
      "La palabra #592 ('hear') aparece 1 veces\n",
      "La palabra #726 ('modern') aparece 1 veces\n",
      "La palabra #920 ('play') aparece 1 veces\n",
      "La palabra #989 ('record') aparece 1 veces\n",
      "La palabra #1019 ('listen') aparece 2 veces\n",
      "La palabra #1048 ('piano') aparece 1 veces\n",
      "La palabra #1075 ('special') aparece 1 veces\n",
      "La palabra #1079 ('delight') aparece 1 veces\n",
      "La palabra #1393 ('wouldn') aparece 1 veces\n",
      "La palabra #1550 ('monk') aparece 1 veces\n",
      "La palabra #2123 ('classic') aparece 1 veces\n",
      "La palabra #2653 ('rais') aparece 1 veces\n",
      "La palabra #2814 ('expect') aparece 1 veces\n",
      "La palabra #2955 ('sharp') aparece 1 veces\n",
      "La palabra #2990 ('jazz') aparece 1 veces\n",
      "La palabra #3373 ('crowd') aparece 1 veces\n",
      "La palabra #5227 ('teenag') aparece 1 veces\n",
      "La palabra #5266 ('joey') aparece 1 veces\n",
      "La palabra #5838 ('alexand') aparece 1 veces\n",
      "La palabra #8688 ('theloni') aparece 1 veces\n"
     ]
    }
   ],
   "source": [
    "for i in range(len(bow_corpus[2000])):\n",
    "    print(\"La palabra #{} ('{}') aparece {} veces\".format(bow_corpus[2000][i][0],\n",
    "                                                         diccionario[bow_corpus[2000][i][0]],\n",
    "                                                         bow_corpus[2000][i][1]))"
   ]
  },
  {
   "cell_type": "markdown",
   "metadata": {},
   "source": [
    "## TF-IDF"
   ]
  },
  {
   "cell_type": "code",
   "execution_count": 26,
   "metadata": {},
   "outputs": [
    {
     "name": "stdout",
     "output_type": "stream",
     "text": [
      "[(0, 0.21465014128259877),\n",
      " (1, 0.1649098661508854),\n",
      " (2, 0.2229471962836048),\n",
      " (3, 0.23833223951022692),\n",
      " (4, 0.3090847303416881),\n",
      " (5, 0.16110176037451798),\n",
      " (6, 0.222147164970131),\n",
      " (7, 0.4015066027030471),\n",
      " (8, 0.2978560771101186),\n",
      " (9, 0.3798372211731492),\n",
      " (10, 0.5051571282959756)]\n"
     ]
    }
   ],
   "source": [
    "from gensim import corpora, models\n",
    "from pprint import pprint\n",
    "\n",
    "tfidf = models.TfidfModel(bow_corpus)\n",
    "corpus_tfidf = tfidf[bow_corpus]\n",
    "\n",
    "for doc in corpus_tfidf:\n",
    "    pprint(doc)\n",
    "    break"
   ]
  },
  {
   "cell_type": "markdown",
   "metadata": {},
   "source": [
    "# Usando LDA con Bag of Words"
   ]
  },
  {
   "cell_type": "code",
   "execution_count": 76,
   "metadata": {},
   "outputs": [
    {
     "name": "stdout",
     "output_type": "stream",
     "text": [
      "* LDA - BoW *\n",
      "\n",
      "\n",
      "Topico #0\n",
      "Palabras: 0.009*\"world\" + 0.009*\"talk\" + 0.005*\"share\" + 0.005*\"say\" + 0.005*\"peopl\" + 0.004*\"like\" + 0.004*\"time\" + 0.004*\"live\" + 0.004*\"learn\" + 0.004*\"power\"\n",
      "\n",
      "\n",
      "Topico #1\n",
      "Palabras: 0.012*\"talk\" + 0.009*\"world\" + 0.009*\"share\" + 0.008*\"like\" + 0.005*\"life\" + 0.005*\"say\" + 0.004*\"need\" + 0.004*\"help\" + 0.004*\"show\" + 0.004*\"human\"\n",
      "\n",
      "\n",
      "Topico #2\n",
      "Palabras: 0.008*\"build\" + 0.007*\"design\" + 0.006*\"learn\" + 0.005*\"talk\" + 0.005*\"world\" + 0.005*\"share\" + 0.005*\"year\" + 0.004*\"human\" + 0.004*\"stori\" + 0.004*\"problem\"\n",
      "\n",
      "\n",
      "Topico #3\n",
      "Palabras: 0.015*\"talk\" + 0.006*\"time\" + 0.005*\"world\" + 0.005*\"say\" + 0.005*\"help\" + 0.004*\"data\" + 0.004*\"start\" + 0.004*\"think\" + 0.004*\"show\" + 0.004*\"live\"\n",
      "\n",
      "\n",
      "Topico #4\n",
      "Palabras: 0.014*\"talk\" + 0.007*\"help\" + 0.006*\"share\" + 0.006*\"peopl\" + 0.006*\"stori\" + 0.005*\"power\" + 0.005*\"show\" + 0.005*\"think\" + 0.005*\"say\" + 0.005*\"year\"\n",
      "\n",
      "\n",
      "Topico #5\n",
      "Palabras: 0.011*\"talk\" + 0.009*\"human\" + 0.008*\"say\" + 0.007*\"peopl\" + 0.006*\"work\" + 0.006*\"show\" + 0.005*\"power\" + 0.005*\"share\" + 0.005*\"world\" + 0.005*\"stori\"\n",
      "\n",
      "\n",
      "Topico #6\n",
      "Palabras: 0.009*\"world\" + 0.009*\"talk\" + 0.007*\"life\" + 0.007*\"peopl\" + 0.006*\"help\" + 0.005*\"live\" + 0.005*\"know\" + 0.005*\"show\" + 0.005*\"work\" + 0.004*\"make\"\n",
      "\n",
      "\n",
      "Topico #7\n",
      "Palabras: 0.012*\"work\" + 0.010*\"share\" + 0.008*\"talk\" + 0.007*\"world\" + 0.007*\"make\" + 0.007*\"life\" + 0.005*\"show\" + 0.005*\"human\" + 0.005*\"build\" + 0.004*\"think\"\n",
      "\n",
      "\n",
      "Topico #8\n",
      "Palabras: 0.010*\"talk\" + 0.008*\"stori\" + 0.007*\"world\" + 0.007*\"say\" + 0.005*\"share\" + 0.005*\"look\" + 0.005*\"power\" + 0.005*\"think\" + 0.004*\"brain\" + 0.004*\"like\"\n",
      "\n",
      "\n",
      "Topico #9\n",
      "Palabras: 0.019*\"talk\" + 0.011*\"world\" + 0.009*\"say\" + 0.007*\"human\" + 0.007*\"share\" + 0.005*\"work\" + 0.005*\"power\" + 0.005*\"peopl\" + 0.005*\"live\" + 0.004*\"idea\"\n",
      "\n",
      "\n"
     ]
    }
   ],
   "source": [
    "lda_model = gensim.models.LdaMulticore(bow_corpus, num_topics=10, id2word=diccionario, passes=2, workers=2)\n",
    "print(\"* LDA - BoW *\\n\\n\")\n",
    "for t_id, topico in lda_model.print_topics(-1):\n",
    "    print(\"Topico #{}\\nPalabras: {}\\n\\n\".format(t_id, topico))"
   ]
  },
  {
   "cell_type": "markdown",
   "metadata": {},
   "source": [
    "## Usando LDA con TFIDF"
   ]
  },
  {
   "cell_type": "code",
   "execution_count": 33,
   "metadata": {},
   "outputs": [
    {
     "name": "stdout",
     "output_type": "stream",
     "text": [
      "* LAD - TFIDF *\n",
      "\n",
      "\n",
      "Topico #0\n",
      "Palabras: 0.002*\"world\" + 0.002*\"talk\" + 0.002*\"share\" + 0.002*\"human\" + 0.002*\"design\" + 0.001*\"say\" + 0.001*\"question\" + 0.001*\"women\" + 0.001*\"right\" + 0.001*\"help\"\n",
      "\n",
      "\n",
      "Topico #1\n",
      "Palabras: 0.002*\"talk\" + 0.002*\"brain\" + 0.002*\"work\" + 0.001*\"world\" + 0.001*\"stori\" + 0.001*\"peopl\" + 0.001*\"power\" + 0.001*\"show\" + 0.001*\"cultur\" + 0.001*\"share\"\n",
      "\n",
      "\n",
      "Topico #2\n",
      "Palabras: 0.002*\"world\" + 0.002*\"talk\" + 0.002*\"learn\" + 0.001*\"like\" + 0.001*\"share\" + 0.001*\"come\" + 0.001*\"work\" + 0.001*\"life\" + 0.001*\"data\" + 0.001*\"stori\"\n",
      "\n",
      "\n",
      "Topico #3\n",
      "Palabras: 0.002*\"share\" + 0.002*\"talk\" + 0.002*\"design\" + 0.002*\"world\" + 0.002*\"live\" + 0.002*\"human\" + 0.002*\"power\" + 0.002*\"like\" + 0.002*\"life\" + 0.001*\"know\"\n",
      "\n",
      "\n",
      "Topico #4\n",
      "Palabras: 0.002*\"talk\" + 0.002*\"show\" + 0.002*\"think\" + 0.002*\"life\" + 0.002*\"peopl\" + 0.001*\"world\" + 0.001*\"share\" + 0.001*\"help\" + 0.001*\"say\" + 0.001*\"look\"\n",
      "\n",
      "\n",
      "Topico #5\n",
      "Palabras: 0.002*\"design\" + 0.002*\"world\" + 0.002*\"talk\" + 0.002*\"creat\" + 0.002*\"work\" + 0.001*\"life\" + 0.001*\"peopl\" + 0.001*\"help\" + 0.001*\"say\" + 0.001*\"stori\"\n",
      "\n",
      "\n",
      "Topico #6\n",
      "Palabras: 0.002*\"talk\" + 0.002*\"make\" + 0.001*\"say\" + 0.001*\"show\" + 0.001*\"work\" + 0.001*\"build\" + 0.001*\"world\" + 0.001*\"peopl\" + 0.001*\"help\" + 0.001*\"share\"\n",
      "\n",
      "\n",
      "Topico #7\n",
      "Palabras: 0.002*\"talk\" + 0.002*\"share\" + 0.002*\"data\" + 0.002*\"human\" + 0.002*\"think\" + 0.002*\"world\" + 0.002*\"time\" + 0.002*\"look\" + 0.002*\"say\" + 0.002*\"peopl\"\n",
      "\n",
      "\n",
      "Topico #8\n",
      "Palabras: 0.002*\"world\" + 0.002*\"talk\" + 0.001*\"life\" + 0.001*\"say\" + 0.001*\"countri\" + 0.001*\"peopl\" + 0.001*\"work\" + 0.001*\"tell\" + 0.001*\"live\" + 0.001*\"inspir\"\n",
      "\n",
      "\n",
      "Topico #9\n",
      "Palabras: 0.002*\"learn\" + 0.001*\"share\" + 0.001*\"world\" + 0.001*\"talk\" + 0.001*\"say\" + 0.001*\"stori\" + 0.001*\"scienc\" + 0.001*\"chang\" + 0.001*\"human\" + 0.001*\"design\"\n",
      "\n",
      "\n"
     ]
    }
   ],
   "source": [
    "lda_model_tfidf = gensim.models.LdaMulticore(corpus_tfidf, num_topics=10, id2word=diccionario, passes=2, workers=4)\n",
    "print(\"* LAD - TFIDF *\\n\\n\")\n",
    "for t_id, topico in lda_model_tfidf.print_topics(-1):\n",
    "    print(\"Topico #{}\\nPalabras: {}\\n\\n\".format(t_id, topico))"
   ]
  },
  {
   "cell_type": "markdown",
   "metadata": {},
   "source": [
    "## Evaluación usando BoW"
   ]
  },
  {
   "cell_type": "code",
   "execution_count": 59,
   "metadata": {},
   "outputs": [
    {
     "name": "stdout",
     "output_type": "stream",
     "text": [
      "rais | listen | record | joey | alexand | play | brand | sharp | modern | piano | jazz | like | wouldn | expect | hear | teenag | listen | year | delight | crowd | special | perform | theloni | monk | classic\n",
      "\n",
      "Puntuación 0.9653603434562683\t\n",
      "Topico: 0.009*\"talk\" + 0.007*\"stori\" + 0.007*\"world\" + 0.006*\"live\" + 0.006*\"say\" + 0.005*\"share\" + 0.005*\"educ\" + 0.005*\"help\" + 0.005*\"peopl\" + 0.005*\"like\"\n"
     ]
    }
   ],
   "source": [
    "print(\" | \".join(documentos_preprocesados[2000]))\n",
    "for i, puntuacion in sorted(lda_model[bow_corpus[2000]], key=lambda tup: -1 * tup[1]):\n",
    "    print(\"\\nPuntuación {}\\t\\nTopico: {}\".format(puntuacion, lda_model.print_topic(i, 10)))"
   ]
  },
  {
   "cell_type": "markdown",
   "metadata": {},
   "source": [
    "## Evaluación usando TFIDF"
   ]
  },
  {
   "cell_type": "code",
   "execution_count": 61,
   "metadata": {
    "scrolled": true
   },
   "outputs": [
    {
     "name": "stdout",
     "output_type": "stream",
     "text": [
      "\n",
      "Score: 0.8514209389686584\t \n",
      "Topic: 0.002*\"world\" + 0.002*\"talk\" + 0.002*\"learn\" + 0.001*\"like\" + 0.001*\"share\" + 0.001*\"come\" + 0.001*\"work\" + 0.001*\"life\" + 0.001*\"data\" + 0.001*\"stori\"\n",
      "\n",
      "Score: 0.11774303019046783\t \n",
      "Topic: 0.002*\"talk\" + 0.002*\"share\" + 0.002*\"data\" + 0.002*\"human\" + 0.002*\"think\" + 0.002*\"world\" + 0.002*\"time\" + 0.002*\"look\" + 0.002*\"say\" + 0.002*\"peopl\"\n"
     ]
    }
   ],
   "source": [
    "for index, score in sorted(lda_model_tfidf[bow_corpus[2000]], key=lambda tup: -1*tup[1]):\n",
    "    print(\"\\nScore: {}\\t \\nTopic: {}\".format(score, lda_model_tfidf.print_topic(index, 10)))"
   ]
  },
  {
   "cell_type": "markdown",
   "metadata": {},
   "source": [
    "## Pruebas con documentos no vistos"
   ]
  },
  {
   "cell_type": "code",
   "execution_count": 63,
   "metadata": {},
   "outputs": [
    {
     "name": "stdout",
     "output_type": "stream",
     "text": [
      "Score: 0.5660471320152283\t Topic: 0.011*\"human\" + 0.010*\"talk\" + 0.010*\"world\" + 0.009*\"share\" + 0.005*\"say\"\n",
      "Score: 0.36117714643478394\t Topic: 0.009*\"talk\" + 0.007*\"stori\" + 0.007*\"world\" + 0.006*\"live\" + 0.006*\"say\"\n"
     ]
    }
   ],
   "source": [
    "documento_nuevo = \"With the recent research Ximena from Elotl community makes the great book compilation of original local languages\"\n",
    "bow_vector = diccionario.doc2bow(preprocesamiento(documento_nuevo))\n",
    "for index, score in sorted(lda_model[bow_vector], key=lambda tup: -1*tup[1]):\n",
    "    print(\"Score: {}\\t Topic: {}\".format(score, lda_model.print_topic(index, 5)))"
   ]
  },
  {
   "cell_type": "markdown",
   "metadata": {},
   "source": [
    "Notas basadas fuertemente en este [articulo](https://towardsdatascience.com/topic-modeling-and-latent-dirichlet-allocation-in-python-9bf156893c24)"
   ]
  }
 ],
 "metadata": {
  "kernelspec": {
   "display_name": "env",
   "language": "python",
   "name": "env"
  },
  "language_info": {
   "codemirror_mode": {
    "name": "ipython",
    "version": 3
   },
   "file_extension": ".py",
   "mimetype": "text/x-python",
   "name": "python",
   "nbconvert_exporter": "python",
   "pygments_lexer": "ipython3",
   "version": "3.7.3"
  }
 },
 "nbformat": 4,
 "nbformat_minor": 2
}
