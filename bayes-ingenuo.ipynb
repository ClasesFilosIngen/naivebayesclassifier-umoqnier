{
 "cells": [
  {
   "cell_type": "markdown",
   "metadata": {},
   "source": [
    "# Filtro de spam con Bayes Ingenuo\n",
    "Basado en el este [artículo](https://towardsdatascience.com/spam-classifier-in-python-from-scratch-27a98ddd8e73)\n",
    "Dataset obtenido de este [enlace](https://www.kaggle.com/uciml/sms-spam-collection-dataset)"
   ]
  },
  {
   "cell_type": "markdown",
   "metadata": {},
   "source": [
    "## Cargando los datos"
   ]
  },
  {
   "cell_type": "code",
   "execution_count": 1,
   "metadata": {
    "pycharm": {
     "is_executing": false
    }
   },
   "outputs": [
    {
     "data": {
      "text/html": [
       "<div>\n",
       "<style scoped>\n",
       "    .dataframe tbody tr th:only-of-type {\n",
       "        vertical-align: middle;\n",
       "    }\n",
       "\n",
       "    .dataframe tbody tr th {\n",
       "        vertical-align: top;\n",
       "    }\n",
       "\n",
       "    .dataframe thead th {\n",
       "        text-align: right;\n",
       "    }\n",
       "</style>\n",
       "<table border=\"1\" class=\"dataframe\">\n",
       "  <thead>\n",
       "    <tr style=\"text-align: right;\">\n",
       "      <th></th>\n",
       "      <th>label</th>\n",
       "      <th>msg</th>\n",
       "    </tr>\n",
       "  </thead>\n",
       "  <tbody>\n",
       "    <tr>\n",
       "      <th>0</th>\n",
       "      <td>ham</td>\n",
       "      <td>Go until jurong point, crazy.. Available only ...</td>\n",
       "    </tr>\n",
       "    <tr>\n",
       "      <th>1</th>\n",
       "      <td>ham</td>\n",
       "      <td>Ok lar... Joking wif u oni...</td>\n",
       "    </tr>\n",
       "    <tr>\n",
       "      <th>2</th>\n",
       "      <td>spam</td>\n",
       "      <td>Free entry in 2 a wkly comp to win FA Cup fina...</td>\n",
       "    </tr>\n",
       "    <tr>\n",
       "      <th>3</th>\n",
       "      <td>ham</td>\n",
       "      <td>U dun say so early hor... U c already then say...</td>\n",
       "    </tr>\n",
       "    <tr>\n",
       "      <th>4</th>\n",
       "      <td>ham</td>\n",
       "      <td>Nah I don't think he goes to usf, he lives aro...</td>\n",
       "    </tr>\n",
       "  </tbody>\n",
       "</table>\n",
       "</div>"
      ],
      "text/plain": [
       "  label                                                msg\n",
       "0   ham  Go until jurong point, crazy.. Available only ...\n",
       "1   ham                      Ok lar... Joking wif u oni...\n",
       "2  spam  Free entry in 2 a wkly comp to win FA Cup fina...\n",
       "3   ham  U dun say so early hor... U c already then say...\n",
       "4   ham  Nah I don't think he goes to usf, he lives aro..."
      ]
     },
     "execution_count": 1,
     "metadata": {},
     "output_type": "execute_result"
    }
   ],
   "source": [
    "import pandas as pd\n",
    "from math import log, sqrt\n",
    "dataset = pd.read_csv(\"datasets/sms-spam/spam.csv\", sep=\"\\t\", names=[\"label\", \"msg\"])\n",
    "dataset.head()"
   ]
  },
  {
   "cell_type": "markdown",
   "metadata": {},
   "source": [
    "### Reemplazando etiquetas por números"
   ]
  },
  {
   "cell_type": "code",
   "execution_count": 2,
   "metadata": {
    "pycharm": {
     "is_executing": false
    }
   },
   "outputs": [
    {
     "data": {
      "text/html": [
       "<div>\n",
       "<style scoped>\n",
       "    .dataframe tbody tr th:only-of-type {\n",
       "        vertical-align: middle;\n",
       "    }\n",
       "\n",
       "    .dataframe tbody tr th {\n",
       "        vertical-align: top;\n",
       "    }\n",
       "\n",
       "    .dataframe thead th {\n",
       "        text-align: right;\n",
       "    }\n",
       "</style>\n",
       "<table border=\"1\" class=\"dataframe\">\n",
       "  <thead>\n",
       "    <tr style=\"text-align: right;\">\n",
       "      <th></th>\n",
       "      <th>label</th>\n",
       "      <th>msg</th>\n",
       "    </tr>\n",
       "  </thead>\n",
       "  <tbody>\n",
       "    <tr>\n",
       "      <th>0</th>\n",
       "      <td>0</td>\n",
       "      <td>Go until jurong point, crazy.. Available only ...</td>\n",
       "    </tr>\n",
       "    <tr>\n",
       "      <th>1</th>\n",
       "      <td>0</td>\n",
       "      <td>Ok lar... Joking wif u oni...</td>\n",
       "    </tr>\n",
       "    <tr>\n",
       "      <th>2</th>\n",
       "      <td>1</td>\n",
       "      <td>Free entry in 2 a wkly comp to win FA Cup fina...</td>\n",
       "    </tr>\n",
       "    <tr>\n",
       "      <th>3</th>\n",
       "      <td>0</td>\n",
       "      <td>U dun say so early hor... U c already then say...</td>\n",
       "    </tr>\n",
       "    <tr>\n",
       "      <th>4</th>\n",
       "      <td>0</td>\n",
       "      <td>Nah I don't think he goes to usf, he lives aro...</td>\n",
       "    </tr>\n",
       "  </tbody>\n",
       "</table>\n",
       "</div>"
      ],
      "text/plain": [
       "   label                                                msg\n",
       "0      0  Go until jurong point, crazy.. Available only ...\n",
       "1      0                      Ok lar... Joking wif u oni...\n",
       "2      1  Free entry in 2 a wkly comp to win FA Cup fina...\n",
       "3      0  U dun say so early hor... U c already then say...\n",
       "4      0  Nah I don't think he goes to usf, he lives aro..."
      ]
     },
     "execution_count": 2,
     "metadata": {},
     "output_type": "execute_result"
    }
   ],
   "source": [
    "dataset[\"label\"] = dataset[\"label\"].map({\"spam\": 1, \"ham\": 0})\n",
    "dataset.head()"
   ]
  },
  {
   "cell_type": "markdown",
   "metadata": {},
   "source": [
    "## Dividiendo dataset en train y test"
   ]
  },
  {
   "cell_type": "code",
   "execution_count": 3,
   "metadata": {
    "pycharm": {
     "is_executing": false
    }
   },
   "outputs": [],
   "source": [
    "from sklearn.model_selection import train_test_split\n",
    "X_train, X_test, y_train, y_test = train_test_split(dataset[\"msg\"], \n",
    "                                                    dataset[\"label\"], \n",
    "                                                    test_size=0.2, \n",
    "                                                    random_state=42)\n",
    "df_test = pd.DataFrame({\"label\": y_test, \"msg\": X_test})\n",
    "df_train = pd.DataFrame({\"label\": y_train, \"msg\": X_train})"
   ]
  },
  {
   "cell_type": "code",
   "execution_count": 4,
   "metadata": {
    "pycharm": {
     "is_executing": false
    }
   },
   "outputs": [
    {
     "data": {
      "text/html": [
       "<div>\n",
       "<style scoped>\n",
       "    .dataframe tbody tr th:only-of-type {\n",
       "        vertical-align: middle;\n",
       "    }\n",
       "\n",
       "    .dataframe tbody tr th {\n",
       "        vertical-align: top;\n",
       "    }\n",
       "\n",
       "    .dataframe thead th {\n",
       "        text-align: right;\n",
       "    }\n",
       "</style>\n",
       "<table border=\"1\" class=\"dataframe\">\n",
       "  <thead>\n",
       "    <tr style=\"text-align: right;\">\n",
       "      <th></th>\n",
       "      <th>label</th>\n",
       "      <th>msg</th>\n",
       "    </tr>\n",
       "  </thead>\n",
       "  <tbody>\n",
       "    <tr>\n",
       "      <th>0</th>\n",
       "      <td>1</td>\n",
       "      <td>Reply to win £100 weekly! Where will the 2006 ...</td>\n",
       "    </tr>\n",
       "    <tr>\n",
       "      <th>1</th>\n",
       "      <td>0</td>\n",
       "      <td>Hello. Sort of out in town already. That . So ...</td>\n",
       "    </tr>\n",
       "    <tr>\n",
       "      <th>2</th>\n",
       "      <td>0</td>\n",
       "      <td>How come guoyang go n tell her? Then u told her?</td>\n",
       "    </tr>\n",
       "    <tr>\n",
       "      <th>3</th>\n",
       "      <td>0</td>\n",
       "      <td>Hey sathya till now we dint meet not even a si...</td>\n",
       "    </tr>\n",
       "    <tr>\n",
       "      <th>4</th>\n",
       "      <td>1</td>\n",
       "      <td>Orange brings you ringtones from all time Char...</td>\n",
       "    </tr>\n",
       "  </tbody>\n",
       "</table>\n",
       "</div>"
      ],
      "text/plain": [
       "   label                                                msg\n",
       "0      1  Reply to win £100 weekly! Where will the 2006 ...\n",
       "1      0  Hello. Sort of out in town already. That . So ...\n",
       "2      0   How come guoyang go n tell her? Then u told her?\n",
       "3      0  Hey sathya till now we dint meet not even a si...\n",
       "4      1  Orange brings you ringtones from all time Char..."
      ]
     },
     "execution_count": 4,
     "metadata": {},
     "output_type": "execute_result"
    }
   ],
   "source": [
    "df_train.reset_index(inplace=True)\n",
    "df_train.drop([\"index\"], axis=1, inplace=True)\n",
    "df_train.head()"
   ]
  },
  {
   "cell_type": "code",
   "execution_count": 5,
   "metadata": {
    "pycharm": {
     "is_executing": false
    }
   },
   "outputs": [
    {
     "data": {
      "text/plain": [
       "0    3859\n",
       "1     598\n",
       "Name: label, dtype: int64"
      ]
     },
     "execution_count": 5,
     "metadata": {},
     "output_type": "execute_result"
    }
   ],
   "source": [
    "df_train['label'].value_counts()"
   ]
  },
  {
   "cell_type": "code",
   "execution_count": 6,
   "metadata": {
    "pycharm": {
     "is_executing": false
    }
   },
   "outputs": [
    {
     "data": {
      "text/html": [
       "<div>\n",
       "<style scoped>\n",
       "    .dataframe tbody tr th:only-of-type {\n",
       "        vertical-align: middle;\n",
       "    }\n",
       "\n",
       "    .dataframe tbody tr th {\n",
       "        vertical-align: top;\n",
       "    }\n",
       "\n",
       "    .dataframe thead th {\n",
       "        text-align: right;\n",
       "    }\n",
       "</style>\n",
       "<table border=\"1\" class=\"dataframe\">\n",
       "  <thead>\n",
       "    <tr style=\"text-align: right;\">\n",
       "      <th></th>\n",
       "      <th>label</th>\n",
       "      <th>msg</th>\n",
       "    </tr>\n",
       "  </thead>\n",
       "  <tbody>\n",
       "    <tr>\n",
       "      <th>0</th>\n",
       "      <td>0</td>\n",
       "      <td>Squeeeeeze!! This is christmas hug.. If u lik ...</td>\n",
       "    </tr>\n",
       "    <tr>\n",
       "      <th>1</th>\n",
       "      <td>0</td>\n",
       "      <td>And also I've sorta blown him off a couple tim...</td>\n",
       "    </tr>\n",
       "    <tr>\n",
       "      <th>2</th>\n",
       "      <td>0</td>\n",
       "      <td>Mmm thats better now i got a roast down me! i...</td>\n",
       "    </tr>\n",
       "    <tr>\n",
       "      <th>3</th>\n",
       "      <td>0</td>\n",
       "      <td>Mm have some kanji dont eat anything heavy ok</td>\n",
       "    </tr>\n",
       "    <tr>\n",
       "      <th>4</th>\n",
       "      <td>0</td>\n",
       "      <td>So there's a ring that comes with the guys cos...</td>\n",
       "    </tr>\n",
       "  </tbody>\n",
       "</table>\n",
       "</div>"
      ],
      "text/plain": [
       "   label                                                msg\n",
       "0      0  Squeeeeeze!! This is christmas hug.. If u lik ...\n",
       "1      0  And also I've sorta blown him off a couple tim...\n",
       "2      0  Mmm thats better now i got a roast down me! i...\n",
       "3      0      Mm have some kanji dont eat anything heavy ok\n",
       "4      0  So there's a ring that comes with the guys cos..."
      ]
     },
     "execution_count": 6,
     "metadata": {},
     "output_type": "execute_result"
    }
   ],
   "source": [
    "df_test.reset_index(inplace=True)\n",
    "df_test.drop([\"index\"], axis=1, inplace=True)\n",
    "df_test.head()"
   ]
  },
  {
   "cell_type": "code",
   "execution_count": 7,
   "metadata": {
    "pycharm": {
     "is_executing": false
    }
   },
   "outputs": [
    {
     "data": {
      "text/plain": [
       "0    966\n",
       "1    149\n",
       "Name: label, dtype: int64"
      ]
     },
     "execution_count": 7,
     "metadata": {},
     "output_type": "execute_result"
    }
   ],
   "source": [
    "df_test['label'].value_counts()"
   ]
  },
  {
   "cell_type": "markdown",
   "metadata": {},
   "source": [
    "## Preprocesamiento, lematizacion y stemming"
   ]
  },
  {
   "cell_type": "code",
   "execution_count": 8,
   "metadata": {
    "pycharm": {
     "is_executing": false
    }
   },
   "outputs": [
    {
     "name": "stderr",
     "output_type": "stream",
     "text": [
      "[nltk_data] Downloading package wordnet to /home/umoqnier/nltk_data...\n",
      "[nltk_data]   Package wordnet is already up-to-date!\n"
     ]
    }
   ],
   "source": [
    "from gensim.utils import simple_preprocess\n",
    "from gensim.parsing.preprocessing import STOPWORDS\n",
    "from nltk.stem import WordNetLemmatizer, SnowballStemmer\n",
    "import nltk\n",
    "nltk.download('wordnet')  # Para la lematizacion\n",
    "\n",
    "def lematizacion_stemming(texto):\n",
    "    stemmer = SnowballStemmer('english')\n",
    "    return stemmer.stem(WordNetLemmatizer().lemmatize(texto, pos='v'))\n",
    "\n",
    "def preprocesamiento(texto):\n",
    "    return [lematizacion_stemming(token) for token in simple_preprocess(texto) \n",
    "            if token not in STOPWORDS and len(token) > 3]"
   ]
  },
  {
   "cell_type": "markdown",
   "metadata": {},
   "source": [
    "## TF-IDF y Entrenamiento "
   ]
  },
  {
   "cell_type": "code",
   "execution_count": 9,
   "metadata": {
    "pycharm": {
     "is_executing": false
    }
   },
   "outputs": [
    {
     "name": "stdout",
     "output_type": "stream",
     "text": [
      "3859 + 598 = 4457 == 4457\n"
     ]
    }
   ],
   "source": [
    "mails, labels = df_train['msg'], df_train['label']\n",
    "total_messages = mails.shape[0]\n",
    "total_spam = labels.value_counts()[1]  # Dónde 1: spam y 0: ham\n",
    "total_ham = labels.value_counts()[0]\n",
    "print(total_ham, '+', total_spam, '=', total_ham + total_spam, '==', total_messages)"
   ]
  },
  {
   "cell_type": "markdown",
   "metadata": {
    "pycharm": {
     "name": "#%% md\n"
    }
   },
   "source": [
    "### Comienza TF-IDF"
   ]
  },
  {
   "cell_type": "code",
   "execution_count": 10,
   "metadata": {
    "pycharm": {
     "is_executing": false,
     "name": "#%%\n"
    }
   },
   "outputs": [],
   "source": [
    "spam_words, ham_words = 0, 0\n",
    "tf_spam, tf_ham = dict(), dict()\n",
    "idf_spam, idf_ham = dict(), dict()\n",
    "for i, msg in enumerate(mails):\n",
    "    occurrences = list()  # For IDF\n",
    "    msg_processed = preprocesamiento(msg)\n",
    "    for word in msg_processed:\n",
    "        if labels[i]:\n",
    "            tf_spam[word] = tf_spam.get(word, 0) + 1\n",
    "            spam_words += 1\n",
    "        else:\n",
    "            tf_ham[word] = tf_ham.get(word, 0) + 1\n",
    "            ham_words += 1\n",
    "        if word not in occurrences:\n",
    "            occurrences += [word]\n",
    "        \n",
    "        for word in occurrences:\n",
    "            if labels[i]:\n",
    "                idf_spam[word] = idf_spam.get(word, 0) + 1\n",
    "            else:\n",
    "                idf_ham[word] = idf_ham.get(word, 0) + 1"
   ]
  },
  {
   "cell_type": "markdown",
   "metadata": {},
   "source": [
    "### Calculando probabilidades"
   ]
  },
  {
   "cell_type": "code",
   "execution_count": 11,
   "metadata": {
    "pycharm": {
     "name": "#%%\n"
    }
   },
   "outputs": [],
   "source": [
    "prob_spam, prob_ham = dict(), dict()\n",
    "tfidf_spam, tfidf_ham = 0, 0\n",
    "for word in tf_spam:\n",
    "    prob_spam[word] = (tf_spam[word]) * log(total_messages / (idf_spam[word] + idf_ham.get(word, 0)) + 1)\n",
    "    tfidf_spam += prob_spam[word]\n",
    "for word in tf_spam:\n",
    "    prob_spam[word] = (prob_spam[word] + 1) / (tfidf_spam + len(list(prob_spam.keys())))\n",
    "\n",
    "\n",
    "for word in tf_ham:\n",
    "    prob_ham[word] = (tf_ham[word]) * log(total_messages / (idf_spam.get(word, 0) + idf_ham[word]) + 1)\n",
    "    tfidf_ham += prob_ham[word]\n",
    "for word in tf_ham:\n",
    "    prob_ham[word] = (prob_ham[word] + 1) / (tfidf_ham + len(list(prob_ham.keys())))    \n",
    "\n",
    "prob_spam_mail = tfidf_spam / total_messages\n",
    "prob_ham_mail = tfidf_ham / total_messages"
   ]
  },
  {
   "cell_type": "markdown",
   "metadata": {},
   "source": [
    "## Haciendo predicciones"
   ]
  },
  {
   "cell_type": "code",
   "execution_count": 12,
   "metadata": {},
   "outputs": [],
   "source": [
    "results = dict()\n",
    "def clasificador(texto, **ka):\n",
    "    p_spam, p_ham = 0, 0\n",
    "    for palabra in texto:\n",
    "        if palabra in ka['ps']:\n",
    "            p_spam += log(ka['ps'][palabra])\n",
    "        else:\n",
    "            p_spam -= log(ka['tis'] + len(list(ka['ps'].keys())))\n",
    "            \n",
    "        if palabra in ka['ph']:\n",
    "            p_ham += log(ka['ph'][palabra])\n",
    "        else:\n",
    "            p_ham -= log(ka['tih'] + len(list(ka['ph'].keys())))\n",
    "        p_spam += log(ka['psm'])\n",
    "        p_ham += log(ka['phm'])\n",
    "    return \"spam\" if p_spam >= p_ham else \"ham\"\n",
    "\n",
    "for i, msg in enumerate(df_test[\"msg\"]):\n",
    "    msg_preprocessed = preprocesamiento(msg)\n",
    "    results[i] = clasificador(msg_preprocessed, psm=prob_spam_mail, ps=prob_spam, \n",
    "                             tis=tfidf_spam, phm=prob_ham_mail, ph=prob_ham, tih=tfidf_ham)"
   ]
  },
  {
   "cell_type": "code",
   "execution_count": 13,
   "metadata": {},
   "outputs": [
    {
     "name": "stdout",
     "output_type": "stream",
     "text": [
      "El mensaje: Squeeeeeze!! This is christmas hug.. If  ... es >> HAM\n",
      "El mensaje: And also I've sorta blown him off a coup ... es >> HAM\n",
      "El mensaje: Mmm thats better now i got a roast down  ... es >> HAM\n",
      "El mensaje: Mm have some kanji dont eat anything hea ... es >> HAM\n",
      "El mensaje: So there's a ring that comes with the gu ... es >> HAM\n",
      "El mensaje: Sary just need Tim in the bollox &it hur ... es >> HAM\n",
      "El mensaje: Love isn't a decision, it's a feeling. I ... es >> HAM\n",
      "El mensaje: My supervisor find 4 me one lor i thk hi ... es >> HAM\n",
      "El mensaje: Dear good morning now only i am up ... es >> HAM\n",
      "El mensaje: I'm in chennai velachery:) ... es >> HAM\n",
      "El mensaje: Lol grr my mom is taking forever with my ... es >> HAM\n",
      "El mensaje: No other Valentines huh? The proof is on ... es >> HAM\n",
      "El mensaje: I'm wif him now buying tix lar... ... es >> HAM\n",
      "El mensaje: Er, hello, things didn‘t quite go to pla ... es >> HAM\n",
      "El mensaje: FREE RINGTONE text FIRST to 87131 for a  ... es >> SPAM\n",
      "El mensaje: Sir, i am waiting for your call. ... es >> HAM\n",
      "El mensaje: Crazy ar he's married. Ü like gd looking ... es >> HAM\n",
      "El mensaje: Hey now am free you can call me. ... es >> SPAM\n",
      "El mensaje: Fighting with the world is easy, u eithe ... es >> HAM\n",
      "El mensaje: Then u go back urself lor... ... es >> HAM\n",
      "El mensaje: Yeah, I'll leave in a couple minutes &am ... es >> HAM\n",
      "El mensaje: Customer place i will call you ... es >> HAM\n"
     ]
    }
   ],
   "source": [
    "for msg_i, tag in zip(results.keys(), results.values()):\n",
    "    print(\"El mensaje:\", df_test['msg'][msg_i][:40], \"... es >>\", tag.upper())\n",
    "    if msg_i > 20:\n",
    "        break"
   ]
  },
  {
   "cell_type": "markdown",
   "metadata": {},
   "source": [
    "## Probando mensajes no vistos"
   ]
  },
  {
   "cell_type": "code",
   "execution_count": 14,
   "metadata": {},
   "outputs": [
    {
     "data": {
      "text/plain": [
       "'ham'"
      ]
     },
     "execution_count": 14,
     "metadata": {},
     "output_type": "execute_result"
    }
   ],
   "source": [
    "ham_test = preprocesamiento(\"Hi, i'm a student from mexico and need your help on this issue because the program don't works fine for my operating system\")\n",
    "clasificador(ham_test, psm=prob_spam_mail, ps=prob_spam, tis=tfidf_spam, phm=prob_ham_mail, ph=prob_ham, tih=tfidf_ham)"
   ]
  },
  {
   "cell_type": "code",
   "execution_count": 15,
   "metadata": {},
   "outputs": [
    {
     "data": {
      "text/plain": [
       "'spam'"
      ]
     },
     "execution_count": 15,
     "metadata": {},
     "output_type": "execute_result"
    }
   ],
   "source": [
    "spam_test = preprocesamiento(\"Congratulations ur awarded $500\")\n",
    "clasificador(spam_test, psm=prob_spam_mail, ps=prob_spam, tis=tfidf_spam, phm=prob_ham_mail, ph=prob_ham, tih=tfidf_ham)"
   ]
  },
  {
   "cell_type": "markdown",
   "metadata": {},
   "source": [
    "## Metricas del modelo"
   ]
  },
  {
   "cell_type": "code",
   "execution_count": 33,
   "metadata": {},
   "outputs": [],
   "source": [
    "def metricas(real, predicciones):\n",
    "    v_pos, v_neg, f_pos, f_neg = 0, 0, 0, 0\n",
    "    for i in range(len(real)):\n",
    "        v_pos += int(real[i] == 1 and predicciones[i] == 1)\n",
    "        v_neg += int(real[i] == 0 and predicciones[i] == 0)\n",
    "        f_pos += int(real[i] == 0 and predicciones[i] == 1)\n",
    "        f_neg += int(real[i] == 1 and predicciones[i] == 0)\n",
    "    precision = v_pos / (v_pos + f_pos)\n",
    "    recall = v_pos / (v_pos + f_neg)\n",
    "    f_score = 2 * precision * recall / (precision + recall)\n",
    "    exactitud = (v_pos + v_neg) / (v_pos + v_neg + f_pos + f_neg)\n",
    "    \n",
    "    print(\"***Metricas***\")\n",
    "    print(\"precision ::\", precision)\n",
    "    print(\"recall ::\", recall)\n",
    "    print(\"F-score ::\", f_score)\n",
    "    print(\"exactitud ::\", exactitud)"
   ]
  },
  {
   "cell_type": "code",
   "execution_count": 34,
   "metadata": {},
   "outputs": [
    {
     "name": "stdout",
     "output_type": "stream",
     "text": [
      "***Metricas***\n",
      "precision :: 0.7735849056603774\n",
      "recall :: 0.825503355704698\n",
      "F-score :: 0.7987012987012987\n",
      "exactitud :: 0.9443946188340807\n"
     ]
    }
   ],
   "source": [
    "df_results = pd.DataFrame(results.items(), columns=[\"index\", \"label\"])\n",
    "metricas(df_test[\"label\"], df_results[\"label\"].map({\"ham\": 0, \"spam\": 1})) # TODO"
   ]
  }
 ],
 "metadata": {
  "kernelspec": {
   "display_name": "env",
   "language": "python",
   "name": "env"
  },
  "language_info": {
   "codemirror_mode": {
    "name": "ipython",
    "version": 3
   },
   "file_extension": ".py",
   "mimetype": "text/x-python",
   "name": "python",
   "nbconvert_exporter": "python",
   "pygments_lexer": "ipython3",
   "version": "3.7.3"
  },
  "pycharm": {
   "stem_cell": {
    "cell_type": "raw",
    "metadata": {
     "collapsed": false
    },
    "source": []
   }
  }
 },
 "nbformat": 4,
 "nbformat_minor": 2
}
